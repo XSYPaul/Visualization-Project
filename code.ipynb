{
 "cells": [
  {
   "cell_type": "code",
   "execution_count": null,
   "metadata": {},
   "outputs": [],
   "source": [
    "import pandas as pd\n",
    "import numpy as np \n",
    "import pyecharts\n",
    "import seaborn as sns\n",
    "import matplotlib.pyplot as plt"
   ]
  },
  {
   "cell_type": "code",
   "execution_count": null,
   "metadata": {},
   "outputs": [],
   "source": [
    "df = pd.read_csv('merge.csv')"
   ]
  },
  {
   "cell_type": "markdown",
   "metadata": {},
   "source": [
    "## Map"
   ]
  },
  {
   "cell_type": "code",
   "execution_count": null,
   "metadata": {},
   "outputs": [],
   "source": [
    "year = list(df['Year'].drop_duplicates())\n",
    "country = list(df['Country'].drop_duplicates())\n",
    "\n",
    "Timeline = pyecharts.Timeline(is_auto_play=True)\n",
    "for i in year:\n",
    "    value = list(df.iloc[:,(-1)][df['Year']==i])\n",
    "    world_map = pyecharts.Map(\"\",width=1500,height=1000)\n",
    "    world_map.add('',country,value,maptype=\"world\", is_visualmap=True, visual_text_color='#000',visual_range=[30,72])\n",
    "    Timeline.add(world_map,i)\n",
    "# Timeline.render('happy.html')"
   ]
  },
  {
   "cell_type": "markdown",
   "metadata": {},
   "source": [
    "## Correlation"
   ]
  },
  {
   "cell_type": "code",
   "execution_count": null,
   "metadata": {},
   "outputs": [],
   "source": [
    "sns.set(style=\"white\")\n",
    "df_all = df.iloc[:,4:-2]\n",
    "corr_all = df_all.corr()\n",
    "mask = np.zeros_like(corr_all)\n",
    "mask[np.triu_indices_from(mask)] = True\n",
    "plt.style.use('seaborn-poster')\n",
    "plt.subplots(figsize=(10,10),facecolor = '#FFF8DC')\n",
    "plt.title('Happiness Matrix For Worldwide',fontsize=30)\n",
    "# cmap = sns.cubehelix_palette(start = 0.5, rot = 4, gamma=0.85, as_cmap = True)\n",
    "cmap = sns.cm.rocket_r \n",
    "sns.heatmap(corr_all, annot=False, square=True,cmap='Blues',robust = True,mask=mask,cbar_kws={\"shrink\": .5})\n",
    "plt.tight_layout()\n",
    "# plt.savefig('heat/worldwide.png',facecolor = '#FFF8DC')\n",
    "district = list(df['Region'].drop_duplicates())\n",
    "for i in district:\n",
    "    df_tmp = df.iloc[:,4:-2][df['Region']==i]\n",
    "    corr_tmp = df_tmp.corr()\n",
    "    mask = np.zeros_like(corr_tmp)\n",
    "    mask[np.triu_indices_from(mask)] = True\n",
    "    plt.style.use('seaborn-poster')\n",
    "    plt.subplots(figsize=(10,10),facecolor = '#FFF8DC')\n",
    "    title='Happiness Matrix For'+\" \"+ i\n",
    "    plt.title(title,fontsize=30)\n",
    "    cmap = sns.cm.rocket_r\n",
    "    sns.heatmap(corr_tmp, annot=False, square=True, cmap=cmap ,robust = True,mask=mask,cbar_kws={\"shrink\": .5})\n",
    "    path = 'heat/'+i+'.png'\n",
    "    plt.tight_layout()\n",
    "#     plt.savefig(path,facecolor = '#FFF8DC')"
   ]
  },
  {
   "cell_type": "markdown",
   "metadata": {},
   "source": [
    "## Polar"
   ]
  },
  {
   "cell_type": "code",
   "execution_count": null,
   "metadata": {},
   "outputs": [],
   "source": [
    "df_polar = df.groupby(by=['Year','Region']).mean()\n",
    "year = list(df['Year'].drop_duplicates())\n",
    "region_name=['Africa','America','Asia','Europe','Oceania']\n",
    "lst_year = []\n",
    "for i in range(len(year)):\n",
    "    for j in range(5):\n",
    "        lst_year.append(year[i])\n",
    "region_name = region_name*12\n",
    "value = list(df_polar['total'].values)\n",
    "data = {\n",
    "    \"Year\":lst_year,\n",
    "    \"Region\":region_name,\n",
    "    \"Happy\":value\n",
    "}\n",
    "polar = pd.DataFrame(data)\n",
    "year_distinct = list(polar['Year'].drop_duplicates())\n",
    "region_district = polar['Region'].drop_duplicates()\n",
    "polar_graph = pyecharts.Polar(width=600,height=700)\n",
    "for name in list(region_district):\n",
    "    polar_graph.add(name,list(polar.iloc[:,(-1)][polar['Region']==name]),radius_data=year_distinct,\n",
    "             type='barRadius',is_stack = True)\n",
    "polar_graph.render('polar.html')"
   ]
  },
  {
   "cell_type": "markdown",
   "metadata": {},
   "source": [
    "# Regression"
   ]
  },
  {
   "cell_type": "code",
   "execution_count": null,
   "metadata": {},
   "outputs": [],
   "source": [
    "gdp = df['GDP']\n",
    "health = df['Health']\n",
    "delivery = df['Delivery Quality']\n",
    "demo = df['Democratic Quality']\n",
    "happy = df[' Happy']\n",
    "plt.subplots(figsize=(12,12),facecolor = '#FFF8DC')\n",
    "plt.suptitle('Regression Line For Worldwide', fontsize = 25)\n",
    "plt.subplot(221)\n",
    "sns.regplot(gdp,happy,color='blue',x_bins=20)\n",
    "plt.subplot(222)\n",
    "sns.regplot(health,happy,x_bins=20,color='orange',marker='>')\n",
    "plt.subplot(223)\n",
    "sns.regplot(delivery,happy,x_bins=20,color='green',marker='D')\n",
    "plt.subplot(224)\n",
    "sns.regplot(demo,happy,x_bins=20,color='red',marker='+')\n",
    "# plt.savefig('regression.png',facecolor = '#FFF8DC')\n",
    "\n",
    "district = list(df['Region'].drop_duplicates())\n",
    "for i in district:\n",
    "    path = 'regression/'+i+'.png'\n",
    "    title = 'Regression Line For '+ i\n",
    "    gdp_tmp = df.loc[:,'GDP'][df['Region']==i]\n",
    "    health_tmp = df.loc[:,'Health'][df['Region']==i]\n",
    "    delivery_tmp = df.loc[:,'Delivery Quality'][df['Region']==i]\n",
    "    demo_tmp = df.loc[:,'Democratic Quality'][df['Region']==i]\n",
    "    happy_tmp = df.loc[:,' Happy'][df['Region']==i]\n",
    "    plt.subplots(figsize=(12,12),facecolor = '#FFF8DC')\n",
    "    plt.suptitle(title, fontsize = 25)\n",
    "    plt.subplot(221)\n",
    "    sns.regplot(gdp_tmp,happy_tmp,color='blue',x_bins=20)\n",
    "    plt.subplot(222)\n",
    "    sns.regplot(health_tmp,happy_tmp,x_bins=20,color='orange',marker='>')\n",
    "    plt.subplot(223)\n",
    "    sns.regplot(delivery_tmp,happy_tmp,x_bins=20,color='green',marker='D')\n",
    "    plt.subplot(224)\n",
    "    sns.regplot(demo_tmp,happy_tmp,x_bins=20,color='red',marker='+')\n",
    "#     plt.savefig(path,facecolor = '#FFF8DC')\n"
   ]
  },
  {
   "cell_type": "markdown",
   "metadata": {},
   "source": [
    "# Violinpolt"
   ]
  },
  {
   "cell_type": "code",
   "execution_count": null,
   "metadata": {},
   "outputs": [],
   "source": [
    "plt.subplots(figsize=(8,4.5),facecolor = '#FFF8DC')\n",
    "plt.style.use('seaborn-poster')\n",
    "plt.title('Violin Plot For different Continent',fontsize=20)\n",
    "sns.violinplot(x=\"Region\",y=\" Happy\",data=df.iloc[:,:][df['Year']==2017],inner=\"quartile\")\n",
    "year_lst=[2017,2016,2015]\n",
    "for i in year_lst:\n",
    "    title = 'Violin Plot For different Continent at '+ str(i)\n",
    "    path = 'violin/violin_'+str(i)+'.png'\n",
    "    plt.subplots(figsize=(16,9),facecolor = '#FFF8DC')\n",
    "    plt.style.use('seaborn-poster')\n",
    "    plt.title(title,fontsize=28)\n",
    "    sns.violinplot(x=\"Region\",y=\" Happy\",data=df.iloc[:,:][df['Year']==i],inner=\"quartile\")\n",
    "#     plt.savefig(path,facecolor = '#FFF8DC')"
   ]
  },
  {
   "cell_type": "markdown",
   "metadata": {},
   "source": [
    "## ThemeRevier"
   ]
  },
  {
   "cell_type": "code",
   "execution_count": null,
   "metadata": {},
   "outputs": [],
   "source": [
    "tmp_df = df.iloc[:,:]\n",
    "index = tmp_df.groupby(by=['Year']).mean()\n",
    "gdp = list(index['GDP'])\n",
    "free = list(index['Freedom'])\n",
    "life = list(index['LifeLadder'])\n",
    "Health = list(index['Health'])\n",
    "social = list(index['social support'])\n",
    "confidence = list(index['cinfidence in government'])\n",
    "perce = list(index['Perceptions of corruption'])\n",
    "gener = list(index['Generosity'])\n",
    "demo = list(index['Democratic Quality'])\n",
    "deli = list(index['Delivery Quality'])\n",
    "year = list(df['Year'].drop_duplicates())\n",
    "feature = ['GDP','Freedom','LifeLadder','Health','social support','confidence in government'\n",
    "          ,'Perceptions of corruption','Generosity','Democratic Quality','Delivery Quality']\n",
    "lst = []\n",
    "for i in range(len(year)):\n",
    "    tmp_1 = [year[i],gdp[i],feature[0]]\n",
    "    lst.append(tmp_1)\n",
    "    tmp_2 = [year[i],free[i],feature[1]]\n",
    "    lst.append(tmp_2)\n",
    "    tmp_3 = [year[i],life[i],feature[2]]\n",
    "    lst.append(tmp_3)\n",
    "    tmp_4 = [year[i],Health[i],feature[3]]\n",
    "    lst.append(tmp_4)\n",
    "    tmp_5 = [year[i],social[i],feature[4]]\n",
    "    lst.append(tmp_5)\n",
    "    \n",
    "    tmp_6 = [year[i],confidence[i],feature[5]]\n",
    "    lst.append(tmp_6)\n",
    "    tmp_7 = [year[i],perce[i],feature[6]]\n",
    "    lst.append(tmp_7)\n",
    "    tmp_8 = [year[i],gener[i],feature[7]]\n",
    "    lst.append(tmp_8)\n",
    "    tmp_9 = [year[i],demo[i],feature[8]]\n",
    "    lst.append(tmp_9)\n",
    "    tmp_10 = [year[i],deli[i],feature[9]]\n",
    "    lst.append(tmp_10)\n",
    "tr = pyecharts.ThemeRiver()\n",
    "tr.add(feature,lst,is_label_show = True)\n",
    "# tr.render(\"River.html\")"
   ]
  },
  {
   "cell_type": "markdown",
   "metadata": {},
   "source": [
    "## Bar Chart"
   ]
  },
  {
   "cell_type": "code",
   "execution_count": null,
   "metadata": {},
   "outputs": [],
   "source": [
    "df_bar = df.groupby(by=['Year','Region']).mean()\n",
    "bar_gdp = list(df_bar['GDP'])\n",
    "bar_health = list(df_bar['Health'])\n",
    "bar_demo = list(df_bar['Democratic Quality'])\n",
    "bar_deli = list(df_bar['Delivery Quality'])\n",
    "chart_gdp = pyecharts.Bar(\"GDP\")\n",
    "chart_gdp.add('Africa',year,bar_gdp[::5])\n",
    "chart_gdp.add('America',year,bar_gdp[1::5])\n",
    "chart_gdp.add('Asia',year,bar_gdp[2::5])\n",
    "chart_gdp.add('Europe',year,bar_gdp[3::5])\n",
    "chart_gdp.add('Oceania',year,bar_gdp[4::5])\n",
    "# chart_gdp.render('bar/GDP.html')\n",
    "chart_health = pyecharts.Bar(\"Health\")\n",
    "chart_health.add('Africa',year,bar_health[::5])\n",
    "chart_health.add('America',year,bar_health[1::5])\n",
    "chart_health.add('Asia',year,bar_health[2::5])\n",
    "chart_health.add('Europe',year,bar_health[3::5])\n",
    "chart_health.add('Oceania',year,bar_health[4::5])\n",
    "# chart_health.render('bar/Health.html')\n",
    "chart_demo = pyecharts.Bar(\"Democratic Quality\")\n",
    "chart_demo.add('Africa',year,bar_demo[::5])\n",
    "chart_demo.add('America',year,bar_demo[1::5])\n",
    "chart_demo.add('Asia',year,bar_demo[2::5])\n",
    "chart_demo.add('Europe',year,bar_demo[3::5])\n",
    "chart_demo.add('Oceania',year,bar_demo[4::5])\n",
    "# chart_demo.render('bar/Demo.html')\n",
    "chart_deli = pyecharts.Bar(\"Delivery Quality\")\n",
    "chart_deli.add('Africa',year,bar_deli[::5])\n",
    "chart_deli.add('America',year,bar_deli[1::5])\n",
    "chart_deli.add('Asia',year,bar_deli[2::5])\n",
    "chart_deli.add('Europe',year,bar_deli[3::5])\n",
    "chart_deli.add('Oceania',year,bar_deli[4::5])\n",
    "# chart_deli.render('bar/Deli.html')\n"
   ]
  },
  {
   "cell_type": "markdown",
   "metadata": {},
   "source": [
    "##  Bubble Plot"
   ]
  },
  {
   "cell_type": "code",
   "execution_count": null,
   "metadata": {},
   "outputs": [],
   "source": [
    "df=df[(df.GDP>0)&(df.Health>0)]\n",
    "timeline_bubble = pyecharts.Timeline(is_auto_play=True)\n",
    "year = list(df['Year'].drop_duplicates())\n",
    "for y in year:\n",
    "    scatter = pyecharts.Scatter()\n",
    "    gdp = list(df.loc[:,'GDP'][df['Year']==y] )\n",
    "    health =list(df.loc[:,'Health'][df['Year']==y] )\n",
    "    happiness =list(df.loc[:,' Happy'][df['Year']==y] )\n",
    "    for i in range(len(gdp)):\n",
    "        scatter.add('',gdp[i:i+1],health[i:i+1],symbol_size = happiness[i]*5,xaxis_min=0,\n",
    "                    xaxis_max=1,xaxis_interval=0.1)\n",
    "    timeline_bubble.add(scatter,y)\n",
    "# timeline_bubble.render('bublbue.html')"
   ]
  },
  {
   "cell_type": "markdown",
   "metadata": {},
   "source": [
    "## TOP 5 & Last 5"
   ]
  },
  {
   "cell_type": "code",
   "execution_count": null,
   "metadata": {},
   "outputs": [],
   "source": [
    "top_2015 = df.iloc[:,:][df['Year'] == 2015]\n",
    "top_2016 = df.iloc[:,:][df['Year'] == 2016]\n",
    "top_2017 = df.iloc[:,:][df['Year'] == 2017]\n",
    "top_2015 = top_2015.sort_values(by = [' Happy'])\n",
    "top_2016 = top_2016.sort_values(by = [' Happy'])\n",
    "top_2017 = top_2017.sort_values(by = [' Happy'])\n",
    "bottom_2015_country = top_2015.head(5)['Country'].tolist()\n",
    "bottom_2015_score = top_2015.head(5)[' Happy'].tolist()\n",
    "top_2015_country = top_2015.tail(5)['Country'].tolist()\n",
    "top_2015_score = top_2015.tail(5)[' Happy'].tolist()\n",
    "\n",
    "bottom_2015_country.extend(top_2015_country)\n",
    "bottom_2015_score.extend(top_2015_score)\n",
    "colors1 = ['#EBCD9D', '#F09797', '#DEFFF1', '#AD8875', '#6D8A6E', '#601C33', '#82EDB8', '#4E8E97', '#CBDCC0', '#AD8875']\n",
    "# colors2 = ['#601C33', '#82EDB8', '#4E8E97', '#CBDCC0', '#AD8875']\n",
    "\n",
    "plt.style.use('seaborn-poster')\n",
    "fig = plt.figure(figsize = (12, 8), facecolor = '#FFF8DC')\n",
    "plt.title('Top & Bottom 5 happinest countries in 2015')\n",
    "plt.barh(range(len(bottom_2015_score)), bottom_2015_score, tick_label = bottom_2015_country, color = colors1)\n",
    "plt.tight_layout()\n",
    "# plt.savefig('./happy_country_2015.png',  facecolor = '#FFF8DC')\n",
    "plt.show()\n",
    "\n",
    "bottom_2016_country = top_2016.head(5)['Country'].tolist()\n",
    "bottom_2016_score = top_2016.head(5)[' Happy'].tolist()\n",
    "top_2016_country = top_2016.tail(5)['Country'].tolist()\n",
    "top_2016_score = top_2016.tail(5)[' Happy'].tolist()\n",
    "\n",
    "bottom_2016_country.extend(top_2016_country)\n",
    "bottom_2016_score.extend(top_2016_score)\n",
    "colors1 = ['#EBCD9D', '#F09797', '#DEFFF1', '#AD8875', '#6D8A6E', '#601C33', '#82EDB8', '#4E8E97', '#CBDCC0', '#AD8875']\n",
    "# colors2 = ['#601C33', '#82EDB8', '#4E8E97', '#CBDCC0', '#AD8875']\n",
    "\n",
    "plt.style.use('seaborn-poster')\n",
    "fig = plt.figure(figsize = (12, 8), facecolor = '#FFF8DC')\n",
    "plt.title('Top & Bottom 5 happinest countries in 2016')\n",
    "plt.barh(range(len(bottom_2016_score)), bottom_2016_score, tick_label = bottom_2016_country, color = colors1)\n",
    "plt.tight_layout()\n",
    "# plt.savefig('./happy_country_2016.png', facecolor = '#FFF8DC')\n",
    "plt.show()\n",
    "\n",
    "bottom_2017_country = top_2017.head(5)['Country'].tolist()\n",
    "bottom_2017_score = top_2017.head(5)[' Happy'].tolist()\n",
    "top_2017_country = top_2017.tail(5)['Country'].tolist()\n",
    "top_2017_score = top_2017.tail(5)[' Happy'].tolist()\n",
    "\n",
    "bottom_2017_country.extend(top_2017_country)\n",
    "bottom_2017_score.extend(top_2017_score)\n",
    "\n",
    "colors1 = ['#EBCD9D', '#F09797', '#DEFFF1', '#AD8875', '#6D8A6E', '#601C33', '#82EDB8', '#4E8E97', '#CBDCC0', '#AD8875']\n",
    "# colors2 = ['#601C33', '#82EDB8', '#4E8E97', '#CBDCC0', '#AD8875']\n",
    "\n",
    "plt.style.use('seaborn-poster')\n",
    "fig = plt.figure(figsize = (12, 8), facecolor = '#FFF8DC')\n",
    "plt.title('Top & Bottom 5 happinest countries in 2017')\n",
    "plt.barh(range(len(bottom_2017_score)), bottom_2017_score, tick_label = bottom_2017_country, color = colors1)\n",
    "plt.tight_layout()\n",
    "# plt.savefig('./happy_country_2017.png',  facecolor = '#FFF8DC')\n",
    "plt.show()"
   ]
  }
 ],
 "metadata": {
  "kernelspec": {
   "display_name": "Python 3",
   "language": "python",
   "name": "python3"
  },
  "language_info": {
   "codemirror_mode": {
    "name": "ipython",
    "version": 3
   },
   "file_extension": ".py",
   "mimetype": "text/x-python",
   "name": "python",
   "nbconvert_exporter": "python",
   "pygments_lexer": "ipython3",
   "version": "3.6.5"
  }
 },
 "nbformat": 4,
 "nbformat_minor": 2
}
